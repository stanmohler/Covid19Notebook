{
 "cells": [
  {
   "cell_type": "markdown",
   "metadata": {},
   "source": [
    "# COVID-19 Numbers and Our Personal Experience: Now and this Fall 2020\n",
    "by Stan Mohler\n",
    "\n",
    "Today is Aug.24, 2020.  Let's estimate how many people we each know who have died or recovered from COVID-19.  Then, let's predict roughly how those numbers will change by early November.  We'll use data from [Johns Hopkins University](https://91-divoc.com/pages/covid-visualization).  "
   ]
  },
  {
   "cell_type": "code",
   "execution_count": 47,
   "metadata": {},
   "outputs": [],
   "source": [
    "population     = 330000000\n",
    "deaths         =    176000\n",
    "deaths_per_day =      1000\n",
    "recoveries     =   2000000"
   ]
  },
  {
   "cell_type": "markdown",
   "metadata": {},
   "source": [
    "For the numbers above, what are the chances of any one American dying of COVID-19 by now?  \n",
    "\n",
    "And what are the chances of surviving until now?  "
   ]
  },
  {
   "cell_type": "code",
   "execution_count": 48,
   "metadata": {},
   "outputs": [
    {
     "name": "stdout",
     "output_type": "stream",
     "text": [
      "Chance of any American dying to date = 0.053 %\n",
      "Chance of any American surviving to date = 99.947 %\n"
     ]
    }
   ],
   "source": [
    "chance_of_dying = deaths/population\n",
    "chance_of_surviving = 1 - chance_of_dying\n",
    "\n",
    "print(f'Chance of any American dying to date = {100*chance_of_dying :.3f} %')\n",
    "print(f'Chance of any American surviving to date = {100*chance_of_surviving :.3f} %')"
   ]
  },
  {
   "cell_type": "markdown",
   "metadata": {},
   "source": [
    "About how many people does a typical person know directly?  \n",
    "These include family, friends, neighbors, co-workers, church members, club members, etc.  \n",
    "As an approximation, let's assume everyone has the same number of such \"friends\", given below.    "
   ]
  },
  {
   "cell_type": "code",
   "execution_count": 49,
   "metadata": {},
   "outputs": [],
   "source": [
    "friends_per_person = 250"
   ]
  },
  {
   "cell_type": "markdown",
   "metadata": {},
   "source": [
    "We can now estimate what fraction of the American population has yet to lose a friend to COVID-19.  "
   ]
  },
  {
   "cell_type": "code",
   "execution_count": 50,
   "metadata": {
    "scrolled": false
   },
   "outputs": [
    {
     "name": "stdout",
     "output_type": "stream",
     "text": [
      "Fraction of Americans who have yet to lose a friend = chance of 250 people surviving = 87.5 %\n"
     ]
    }
   ],
   "source": [
    "pop_frac_yet_to_lose_a_friend = chance_of_surviving ** friends_per_person\n",
    "\n",
    "print(f'Fraction of Americans who have yet to lose a friend = chance of {friends_per_person} people surviving = {100 * pop_frac_yet_to_lose_a_friend :.1f} %')"
   ]
  },
  {
   "cell_type": "markdown",
   "metadata": {},
   "source": [
    "Now let's compute the probability of any person having gotten, and recovered from, COVID-19 by now.  "
   ]
  },
  {
   "cell_type": "code",
   "execution_count": 51,
   "metadata": {},
   "outputs": [
    {
     "name": "stdout",
     "output_type": "stream",
     "text": [
      "Fraction of Americans who have recovered from COVID-19 = 0.606%\n"
     ]
    }
   ],
   "source": [
    "fraction_recovered = recoveries / population\n",
    "print(f'Fraction of Americans who have recovered from COVID-19 = {100 * fraction_recovered :0.3f}%')"
   ]
  },
  {
   "cell_type": "markdown",
   "metadata": {},
   "source": [
    "Some people won't know anybody who's gotten COVID-19 and recovered.  Others will know several.  A few will know many.  The distribution is geometric, specifically a negative binomial distribution.  It's the same distribution as the number of ones you might get after 10 rolls of a die.  Let's define a function to calculate and draw it."
   ]
  },
  {
   "cell_type": "code",
   "execution_count": 52,
   "metadata": {},
   "outputs": [],
   "source": [
    "import matplotlib.pyplot as plt\n",
    "import numpy as np\n",
    "from scipy.special import comb as choose\n",
    "\n",
    "def calc_plot_neg_binom_dist(friends_per_person, fraction_recovered, description):\n",
    "    \n",
    "    N = friends_per_person\n",
    "    p = fraction_recovered\n",
    "\n",
    "    #print(f'p = chance of any random person having gotten COVID and recovered = {p :0.5f}')\n",
    "    #print(' ')\n",
    "    #print('k    = no. friends who have gotten sick & recoverd')\n",
    "    #print('P(k) = probability of having that k value')\n",
    "    #print(' ')\n",
    "    #print('k  P(k)')\n",
    "    #print('-  ----')\n",
    "\n",
    "    maxNumFriendsToConsider = 0\n",
    "    maxNumFriendsToPlot = 10\n",
    "    numRecovered = 0\n",
    "    expectedNumFriends = 0\n",
    "    probOfKArry = np.zeros(N)\n",
    "    sumOfProbs = 0\n",
    "\n",
    "    for k in range(N):\n",
    "      probOfK = choose(N,k) * p**k * (1-p)**(N-k)\n",
    "      probOfKArry[k] = probOfK\n",
    "      expectedNumFriends += probOfK * k\n",
    "      sumOfProbs += probOfK\n",
    "      if sumOfProbs <= 0.9999:\n",
    "        maxNumFriendsToPlot = k\n",
    "        #print(f'{k}  {probOfK :.3f}')\n",
    "\n",
    "    expectedNumFriends = expectedNumFriends / sumOfProbs\n",
    "\n",
    "    # a check on how nicely our histogram ends\n",
    "    #print(f'\\nSum of probabilities = {sumOfProbs :0.6f}   ...should be close to 1.0')\n",
    "\n",
    "    plt.bar(range(maxNumFriendsToPlot), probOfKArry[0:maxNumFriendsToPlot], color='gray')\n",
    "    plt.xlabel('no. friends who have gotten sick and recovered')\n",
    "    plt.ylabel('Probability')\n",
    "    plt.title('Negative Binomial Distribution')\n",
    "    plt.show()\n",
    "\n",
    "    print(f'Any person can expect to have this many {description}: {expectedNumFriends :0.1f}')"
   ]
  },
  {
   "cell_type": "markdown",
   "metadata": {},
   "source": [
    "Let's use the function above to compute and plot the distribution of how many friends the typical American has seen recover as of today.  "
   ]
  },
  {
   "cell_type": "code",
   "execution_count": 53,
   "metadata": {},
   "outputs": [
    {
     "data": {
      "image/png": "[encoded data removed]",
      "text/plain": [
       "<Figure size 432x288 with 1 Axes>"
      ]
     },
     "metadata": {
      "needs_background": "light"
     },
     "output_type": "display_data"
    },
    {
     "name": "stdout",
     "output_type": "stream",
     "text": [
      "Any person can expect to have this many recovered friends: 1.5\n"
     ]
    }
   ],
   "source": [
    "calc_plot_neg_binom_dist(friends_per_person, fraction_recovered, 'recovered friends')"
   ]
  },
  {
   "cell_type": "markdown",
   "metadata": {},
   "source": [
    "Most people are in the taller columns.  The typical person can expect to know a number of recovered friends shown above, as of today (Aug. 24, 2020).  \n",
    "\n",
    "Now lets predict the future.  Below is a table of data as of 8/23/2020, from [Johns Hopkins](https://91-divoc.com/pages/covid-visualization): "
   ]
  },
  {
   "cell_type": "code",
   "execution_count": 54,
   "metadata": {},
   "outputs": [
    {
     "data": {
      "text/html": [
       "<div>\n",
       "<style>\n",
       "    .dataframe thead tr:only-child th {\n",
       "        text-align: right;\n",
       "    }\n",
       "\n",
       "    .dataframe thead th {\n",
       "        text-align: left;\n",
       "    }\n",
       "\n",
       "    .dataframe tbody tr th {\n",
       "        vertical-align: top;\n",
       "    }\n",
       "</style>\n",
       "<table border=\"1\" class=\"dataframe\">\n",
       "  <thead>\n",
       "    <tr style=\"text-align: right;\">\n",
       "      <th></th>\n",
       "      <th>days_since_mar_8_20</th>\n",
       "      <th>num_recovered</th>\n",
       "    </tr>\n",
       "  </thead>\n",
       "  <tbody>\n",
       "    <tr>\n",
       "      <th>0</th>\n",
       "      <td>30</td>\n",
       "      <td>58545</td>\n",
       "    </tr>\n",
       "    <tr>\n",
       "      <th>1</th>\n",
       "      <td>50</td>\n",
       "      <td>195036</td>\n",
       "    </tr>\n",
       "    <tr>\n",
       "      <th>2</th>\n",
       "      <td>85</td>\n",
       "      <td>540292</td>\n",
       "    </tr>\n",
       "    <tr>\n",
       "      <th>3</th>\n",
       "      <td>120</td>\n",
       "      <td>1090645</td>\n",
       "    </tr>\n",
       "    <tr>\n",
       "      <th>4</th>\n",
       "      <td>157</td>\n",
       "      <td>1985484</td>\n",
       "    </tr>\n",
       "  </tbody>\n",
       "</table>\n",
       "</div>"
      ],
      "text/plain": [
       "   days_since_mar_8_20  num_recovered\n",
       "0                   30          58545\n",
       "1                   50         195036\n",
       "2                   85         540292\n",
       "3                  120        1090645\n",
       "4                  157        1985484"
      ]
     },
     "execution_count": 54,
     "metadata": {},
     "output_type": "execute_result"
    }
   ],
   "source": [
    "import pandas as pd\n",
    "days_since_mar_8_20 = [30,50,85,120,157]\n",
    "num_recovered = [58545,195036,540292,1090645,1985484]\n",
    "df = pd.DataFrame()\n",
    "df['days_since_mar_8_20'] = days_since_mar_8_20\n",
    "df['num_recovered'] = num_recovered\n",
    "df"
   ]
  },
  {
   "cell_type": "markdown",
   "metadata": {},
   "source": [
    "Let's plot the data:"
   ]
  },
  {
   "cell_type": "code",
   "execution_count": 55,
   "metadata": {},
   "outputs": [
    {
     "data": {
      "text/plain": [
       "<matplotlib.axes._subplots.AxesSubplot at 0x7f8a6d45d128>"
      ]
     },
     "execution_count": 55,
     "metadata": {},
     "output_type": "execute_result"
    },
    {
     "data": {
      "image/png": "[encoded data removed]",
      "text/plain": [
       "<Figure size 432x288 with 1 Axes>"
      ]
     },
     "metadata": {
      "needs_background": "light"
     },
     "output_type": "display_data"
    }
   ],
   "source": [
    "df.plot(x='days_since_mar_8_20', y='num_recovered', kind='scatter', marker='o', color='black')"
   ]
  },
  {
   "cell_type": "markdown",
   "metadata": {},
   "source": [
    "Let's fit a curve through the dots, so we can predict the future.  "
   ]
  },
  {
   "cell_type": "code",
   "execution_count": 56,
   "metadata": {},
   "outputs": [
    {
     "data": {
      "text/plain": [
       "<matplotlib.legend.Legend at 0x7f8a67af7198>"
      ]
     },
     "execution_count": 56,
     "metadata": {},
     "output_type": "execute_result"
    },
    {
     "data": {
      "image/png": "[encoded data removed]",
      "text/plain": [
       "<Figure size 432x288 with 1 Axes>"
      ]
     },
     "metadata": {
      "needs_background": "light"
     },
     "output_type": "display_data"
    }
   ],
   "source": [
    "import pylab\n",
    "import math\n",
    "\n",
    "pylab.plot(days_since_mar_8_20, num_recovered, 'ko', label='Actual')\n",
    "\n",
    "log_num_recovered = []\n",
    "base = 2.0\n",
    "for y in num_recovered:\n",
    "    log_num_recovered.append( math.log(y, base))\n",
    "fit = pylab.polyfit(days_since_mar_8_20, log_num_recovered, 3)\n",
    "\n",
    "t_future = days_since_mar_8_20[3] + 70\n",
    "days_since_mar_8_20.append(t_future)\n",
    "predicted_num_recovered = []\n",
    "for x in days_since_mar_8_20:\n",
    "    predicted_num_recovered.append(base**pylab.polyval(fit, x))\n",
    "\n",
    "pylab.plot(days_since_mar_8_20, predicted_num_recovered, 'kx', label='Predicted', markeredgewidth=1, markersize = 12)\n",
    "pylab.title('Predicted No. of Recoveries vs. Time')\n",
    "pylab.legend(loc='upper left')"
   ]
  },
  {
   "cell_type": "markdown",
   "metadata": {},
   "source": [
    "The X in the upper right shows the predicted number of recovered Americans we'll have in early November 2020.  It's dramatically higher than today (Aug. 24, 2020).  \n",
    "\n",
    "Let's print the number..."
   ]
  },
  {
   "cell_type": "code",
   "execution_count": 4,
   "metadata": {},
   "outputs": [
    {
     "name": "stdout",
     "output_type": "stream",
     "text": [
      "prediction =  1142806.5965\n"
     ]
    }
   ],
   "source": [
    "predicted_num_recovered_nov_2020 = base**pylab.polyval(fit, days_since_mar_8_20[4])\n",
    "print('prediction = ', predicted_num_recovered_nov_2020 )"
   ]
  },
  {
   "cell_type": "markdown",
   "metadata": {},
   "source": [
    "The number immediately above is the predicted number of recovered Americans we'll have in early November 2020.\n",
    "\n",
    "Now let's see how many recovered friends people will have, by repeating the earlier calculations using our prediction."
   ]
  },
  {
   "cell_type": "code",
   "execution_count": 5,
   "metadata": {},
   "outputs": [
    {
     "ename": "NameError",
     "evalue": "name 'population' is not defined",
     "output_type": "error",
     "traceback": [
      "\u001b[0;31m---------------------------------------------------------------------------\u001b[0m",
      "\u001b[0;31mNameError\u001b[0m                                 Traceback (most recent call last)",
      "\u001b[0;32m<ipython-input-5-502f26749024>\u001b[0m in \u001b[0;36m<module>\u001b[0;34m\u001b[0m\n\u001b[0;32m----> 1\u001b[0;31m \u001b[0mfraction_recovered\u001b[0m \u001b[0;34m=\u001b[0m \u001b[0mpredicted_num_recovered_nov_2020\u001b[0m \u001b[0;34m/\u001b[0m \u001b[0mpopulation\u001b[0m\u001b[0;34m\u001b[0m\u001b[0;34m\u001b[0m\u001b[0m\n\u001b[0m\u001b[1;32m      2\u001b[0m \u001b[0mprint\u001b[0m\u001b[0;34m(\u001b[0m\u001b[0;34mf'Fraction of Americans who will have recovered from COVID-19 = {100 * fraction_recovered :0.3f}%'\u001b[0m\u001b[0;34m)\u001b[0m\u001b[0;34m\u001b[0m\u001b[0;34m\u001b[0m\u001b[0m\n\u001b[1;32m      3\u001b[0m \u001b[0mcalc_plot_neg_binom_dist\u001b[0m\u001b[0;34m(\u001b[0m\u001b[0mfriends_per_person\u001b[0m\u001b[0;34m,\u001b[0m \u001b[0mfraction_recovered\u001b[0m\u001b[0;34m,\u001b[0m \u001b[0;34m'recovered friends'\u001b[0m\u001b[0;34m)\u001b[0m\u001b[0;34m\u001b[0m\u001b[0;34m\u001b[0m\u001b[0m\n",
      "\u001b[0;31mNameError\u001b[0m: name 'population' is not defined"
     ]
    }
   ],
   "source": [
    "fraction_recovered = predicted_num_recovered_nov_2020 / population\n",
    "print(f'Fraction of Americans who will have recovered from COVID-19 = {100 * fraction_recovered :0.3f}%')\n",
    "calc_plot_neg_binom_dist(friends_per_person, fraction_recovered, 'recovered friends')"
   ]
  },
  {
   "cell_type": "markdown",
   "metadata": {},
   "source": [
    "In early November 2020, each of us can expect to know a number of friends, shown above, who have recovered from COVID-19. \n",
    "\n",
    "How many of our friends can we expect to die?"
   ]
  },
  {
   "cell_type": "code",
   "execution_count": 276,
   "metadata": {},
   "outputs": [
    {
     "name": "stdout",
     "output_type": "stream",
     "text": [
      "Predicted number of American deaths = 246000\n",
      "Fraction of Americans who will have died = 0.07%\n"
     ]
    }
   ],
   "source": [
    "deaths_as_of_nov_2020 = deaths + 70 * deaths_per_day\n",
    "print(f'Predicted number of American deaths = {deaths_as_of_nov_2020}')\n",
    "fraction_died = deaths_as_of_nov_2020 / population\n",
    "print(f'Fraction of Americans who will have died = {100*fraction_died :.2f}%')"
   ]
  },
  {
   "cell_type": "code",
   "execution_count": 277,
   "metadata": {},
   "outputs": [
    {
     "data": {
      "image/png": "[encoded data removed]",
      "text/plain": [
       "<Figure size 432x288 with 1 Axes>"
      ]
     },
     "metadata": {
      "needs_background": "light"
     },
     "output_type": "display_data"
    },
    {
     "name": "stdout",
     "output_type": "stream",
     "text": [
      "Any person can expect to have this many dead friends: 0.2\n"
     ]
    }
   ],
   "source": [
    "calc_plot_neg_binom_dist(friends_per_person, fraction_died, 'dead friends')"
   ]
  },
  {
   "cell_type": "markdown",
   "metadata": {},
   "source": [
    "The calculations above show that, between August and November 2020, most Americnas will develop a growing list of friends who have gotten COVID-19 and recovered.  \n",
    "\n",
    "But most of us will be in the tall column on the left, and so, won't know anyone who has died from COVID-19, even though there will be **about a quarter million dead Americans.**  \n",
    "\n",
    "These were crude calculations.  I assumed everyone has a fixed number of “friends” and that these friends aren’t grouped into disease-sharing families or groups.  I ignored difficult recoveries.  But, just as most COVID patients survive, most also avoid difficult recoveries.  So, I think my analysis reveals the broad strokes.  \n",
    "\n",
    "Knowing multiple people who have recovered, but few, if any, who have died, might create a rosy, but mistaken, perception for most of us.  "
   ]
  },
  {
   "cell_type": "code",
   "execution_count": null,
   "metadata": {},
   "outputs": [],
   "source": []
  }
 ],
 "metadata": {
  "kernelspec": {
   "display_name": "Python 3",
   "language": "python",
   "name": "python3"
  },
  "language_info": {
   "codemirror_mode": {
    "name": "ipython",
    "version": 3
   },
   "file_extension": ".py",
   "mimetype": "text/x-python",
   "name": "python",
   "nbconvert_exporter": "python",
   "pygments_lexer": "ipython3",
   "version": "3.6.8"
  }
 },
 "nbformat": 4,
 "nbformat_minor": 2
}
